{
 "cells": [
  {
   "cell_type": "code",
   "execution_count": 9,
   "metadata": {},
   "outputs": [
    {
     "name": "stdout",
     "output_type": "stream",
     "text": [
      "Started worker computer_0\n",
      "Started worker computer_1\n",
      "Started worker computer_2\n",
      "Started worker computer_3\n",
      "Started worker computer_4\n",
      "computer_0 worker finished in 1 seconds\n",
      "computer_1 worker finished in 3 seconds\n",
      "computer_3 worker finished in 3 seconds\n",
      "computer_4 worker finished in 3 seconds\n",
      "computer_2 worker finished in 2 seconds\n",
      "computer_3 worker finished in 2 seconds\n",
      "computer_4 worker finished in 2 seconds\n",
      "computer_2 worker finished in 4 secondscomputer_0 worker finished in 4 seconds\n",
      "\n",
      "computer_1 worker finished in 3 seconds\n",
      "computer_0 worker finished in 3 seconds\n",
      "computer_3 worker finished in 3 secondscomputer_1 worker finished in 3 seconds\n",
      "\n",
      "computer_4 worker finished in 4 seconds\n",
      "computer_2 worker finished in 4 seconds\n"
     ]
    }
   ],
   "source": [
    "import random\n",
    "import threading\n",
    "import time\n",
    "\n",
    "\n",
    "def worker(name: str) -> None:\n",
    "    print(f'Started worker {name}')\n",
    "    worker_time = random.choice(range(1, 5))\n",
    "    time.sleep(worker_time)\n",
    "    print(f'{name} worker finished in {worker_time} seconds')\n",
    "\n",
    "if __name__ == '__main__':\n",
    "    for i in range(5):\n",
    "        thread = threading.Thread(target=worker,args=(f'computer_{i}',),)\n",
    "        thread.start()"
   ]
  },
  {
   "cell_type": "code",
   "execution_count": 10,
   "metadata": {},
   "outputs": [
    {
     "name": "stdout",
     "output_type": "stream",
     "text": [
      "Processing 0\n",
      "Adding 2 to number: 2\n",
      "Processing 1\n",
      "Adding 2 to number: 3\n",
      "Processing 2\n",
      "Adding 2 to number: 4\n",
      "Processing 3\n",
      "Adding 2 to number: 5\n",
      "Processing 4\n",
      "Adding 2 to number: 6\n"
     ]
    }
   ],
   "source": [
    "def log(number):\n",
    "    print(f'Processing {number}')\n",
    "    print(f'Adding 2 to number: {number + 2}')\n",
    "\n",
    "\n",
    "def looper(number):\n",
    "    for i in range(number):\n",
    "        log(i)\n",
    "\n",
    "if __name__ == '__main__':\n",
    "    looper(5)"
   ]
  },
  {
   "cell_type": "code",
   "execution_count": 19,
   "metadata": {},
   "outputs": [
    {
     "ename": "SyntaxError",
     "evalue": "EOL while scanning string literal (<ipython-input-19-a5f58ddcb1a6>, line 2)",
     "output_type": "error",
     "traceback": [
      "\u001b[1;36m  File \u001b[1;32m\"<ipython-input-19-a5f58ddcb1a6>\"\u001b[1;36m, line \u001b[1;32m2\u001b[0m\n\u001b[1;33m    file.write(f'def log(number):\u001b[0m\n\u001b[1;37m                                 ^\u001b[0m\n\u001b[1;31mSyntaxError\u001b[0m\u001b[1;31m:\u001b[0m EOL while scanning string literal\n"
     ]
    }
   ],
   "source": [
    "with open(\"debug_code.py\", \"w\") as file:\n",
    "    file.write(f'def log(number):\n",
    "    print(f'Processing {number}')\n",
    "    print(f'Adding 2 to number: {number + 2}')\n",
    "\n",
    "\n",
    "    def looper(number):\n",
    "        for i in range(number):\n",
    "            log(i)\n",
    "\n",
    "    if __name__ == '__main__':\n",
    "        looper(5)')\n",
    "    "
   ]
  },
  {
   "cell_type": "code",
   "execution_count": 23,
   "metadata": {},
   "outputs": [
    {
     "name": "stdout",
     "output_type": "stream",
     "text": [
      "args=('abcde', 'boder')\n",
      "kwargs={'one': 1, 'two': 2}\n"
     ]
    }
   ],
   "source": [
    "def myfunction(*args, **kwargs):\n",
    "    print(f'{args=}')\n",
    "    print(f'{kwargs=}')\n",
    "\n",
    "myfunction('abcde','boder', one=1, two=2)\n",
    "    "
   ]
  },
  {
   "cell_type": "code",
   "execution_count": 27,
   "metadata": {},
   "outputs": [],
   "source": [
    "def some_function(arg_one, arg_two):\n",
    "    \"\"\"This is some_function's docstring\"\"\"\n",
    "    print(some_function.__doc__)\n"
   ]
  },
  {
   "cell_type": "code",
   "execution_count": 33,
   "metadata": {},
   "outputs": [
    {
     "name": "stdout",
     "output_type": "stream",
     "text": [
      "Function name: treble\n",
      "Function docstring: <function treble at 0x0000029C5E5F5DC0>\n",
      "15\n"
     ]
    }
   ],
   "source": [
    "def func_info(func):\n",
    "    def wrapper(*args):\n",
    "        print('Function name: ' + func.__name__)\n",
    "        print('Function docstring: ' + str(func.__doc__))\n",
    "        result = func(*args)\n",
    "        return result\n",
    "    return wrapper\n",
    "\n",
    "\n",
    "def treble(a):\n",
    "    \"\"\"A function that triples its input\"\"\"\n",
    "    return a * 3\n",
    "my_treble = func_info(treble)\n"
   ]
  },
  {
   "cell_type": "code",
   "execution_count": 31,
   "metadata": {},
   "outputs": [
    {
     "name": "stdout",
     "output_type": "stream",
     "text": [
      "15\n"
     ]
    }
   ],
   "source": [
    "def treble(a):\n",
    "    return a * 3\n",
    "\n",
    "print(treble(5))"
   ]
  }
 ],
 "metadata": {
  "kernelspec": {
   "display_name": "Python 3",
   "language": "python",
   "name": "python3"
  },
  "language_info": {
   "codemirror_mode": {
    "name": "ipython",
    "version": 3
   },
   "file_extension": ".py",
   "mimetype": "text/x-python",
   "name": "python",
   "nbconvert_exporter": "python",
   "pygments_lexer": "ipython3",
   "version": "3.8.3"
  }
 },
 "nbformat": 4,
 "nbformat_minor": 4
}
