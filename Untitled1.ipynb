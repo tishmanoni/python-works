{
 "cells": [
  {
   "cell_type": "code",
   "execution_count": 9,
   "metadata": {},
   "outputs": [
    {
     "name": "stdout",
     "output_type": "stream",
     "text": [
      "Started worker computer_0\n",
      "Started worker computer_1\n",
      "Started worker computer_2\n",
      "Started worker computer_3\n",
      "Started worker computer_4\n",
      "computer_0 worker finished in 1 seconds\n",
      "computer_1 worker finished in 3 seconds\n",
      "computer_3 worker finished in 3 seconds\n",
      "computer_4 worker finished in 3 seconds\n",
      "computer_2 worker finished in 2 seconds\n",
      "computer_3 worker finished in 2 seconds\n",
      "computer_4 worker finished in 2 seconds\n",
      "computer_2 worker finished in 4 secondscomputer_0 worker finished in 4 seconds\n",
      "\n",
      "computer_1 worker finished in 3 seconds\n",
      "computer_0 worker finished in 3 seconds\n",
      "computer_3 worker finished in 3 secondscomputer_1 worker finished in 3 seconds\n",
      "\n",
      "computer_4 worker finished in 4 seconds\n",
      "computer_2 worker finished in 4 seconds\n"
     ]
    }
   ],
   "source": [
    "import random\n",
    "import threading\n",
    "import time\n",
    "\n",
    "\n",
    "def worker(name: str) -> None:\n",
    "    print(f'Started worker {name}')\n",
    "    worker_time = random.choice(range(1, 5))\n",
    "    time.sleep(worker_time)\n",
    "    print(f'{name} worker finished in {worker_time} seconds')\n",
    "\n",
    "if __name__ == '__main__':\n",
    "    for i in range(5):\n",
    "        thread = threading.Thread(target=worker,args=(f'computer_{i}',),)\n",
    "        thread.start()"
   ]
  },
  {
   "cell_type": "code",
   "execution_count": 10,
   "metadata": {},
   "outputs": [
    {
     "name": "stdout",
     "output_type": "stream",
     "text": [
      "Processing 0\n",
      "Adding 2 to number: 2\n",
      "Processing 1\n",
      "Adding 2 to number: 3\n",
      "Processing 2\n",
      "Adding 2 to number: 4\n",
      "Processing 3\n",
      "Adding 2 to number: 5\n",
      "Processing 4\n",
      "Adding 2 to number: 6\n"
     ]
    }
   ],
   "source": [
    "def log(number):\n",
    "    print(f'Processing {number}')\n",
    "    print(f'Adding 2 to number: {number + 2}')\n",
    "\n",
    "\n",
    "def looper(number):\n",
    "    for i in range(number):\n",
    "        log(i)\n",
    "\n",
    "if __name__ == '__main__':\n",
    "    looper(5)"
   ]
  },
  {
   "cell_type": "code",
   "execution_count": 19,
   "metadata": {},
   "outputs": [
    {
     "ename": "SyntaxError",
     "evalue": "EOL while scanning string literal (<ipython-input-19-a5f58ddcb1a6>, line 2)",
     "output_type": "error",
     "traceback": [
      "\u001b[1;36m  File \u001b[1;32m\"<ipython-input-19-a5f58ddcb1a6>\"\u001b[1;36m, line \u001b[1;32m2\u001b[0m\n\u001b[1;33m    file.write(f'def log(number):\u001b[0m\n\u001b[1;37m                                 ^\u001b[0m\n\u001b[1;31mSyntaxError\u001b[0m\u001b[1;31m:\u001b[0m EOL while scanning string literal\n"
     ]
    }
   ],
   "source": [
    "with open(\"debug_code.py\", \"w\") as file:\n",
    "    file.write(f'def log(number):\n",
    "    print(f'Processing {number}')\n",
    "    print(f'Adding 2 to number: {number + 2}')\n",
    "\n",
    "\n",
    "    def looper(number):\n",
    "        for i in range(number):\n",
    "            log(i)\n",
    "\n",
    "    if __name__ == '__main__':\n",
    "        looper(5)')\n",
    "    "
   ]
  },
  {
   "cell_type": "code",
   "execution_count": 23,
   "metadata": {},
   "outputs": [
    {
     "name": "stdout",
     "output_type": "stream",
     "text": [
      "args=('abcde', 'boder')\n",
      "kwargs={'one': 1, 'two': 2}\n"
     ]
    }
   ],
   "source": [
    "def myfunction(*args, **kwargs):\n",
    "    print(f'{args=}')\n",
    "    print(f'{kwargs=}')\n",
    "\n",
    "myfunction('abcde','boder', one=1, two=2)\n",
    "    "
   ]
  },
  {
   "cell_type": "code",
   "execution_count": 27,
   "metadata": {},
   "outputs": [],
   "source": [
    "def some_function(arg_one, arg_two):\n",
    "    \"\"\"This is some_function's docstring\"\"\"\n",
    "    print(some_function.__doc__)\n"
   ]
  },
  {
   "cell_type": "code",
   "execution_count": 36,
   "metadata": {},
   "outputs": [
    {
     "name": "stdout",
     "output_type": "stream",
     "text": [
      "Function name: treble\n",
      "Function docstring: A function that triples its input\n",
      "15\n"
     ]
    }
   ],
   "source": [
    "def func_info(func):\n",
    "    def wrapper(*args):\n",
    "        print('Function name: ' + func.__name__)\n",
    "        print('Function docstring: ' + str(func.__doc__))\n",
    "        result = func(*args)\n",
    "        return result\n",
    "    return wrapper\n",
    "\n",
    "\n",
    "def treble(a):\n",
    "    \"\"\"A function that triples its input\"\"\"\n",
    "    return a * 3\n",
    "my_treble = func_info(treble)\n",
    "print(my_treble(5))"
   ]
  },
  {
   "cell_type": "code",
   "execution_count": 46,
   "metadata": {},
   "outputs": [],
   "source": [
    "my_list = ['book_title,author,publisher,pub_date,isbn', 'Python 101,Mike Driscoll, Mike Driscoll,2020,123456789', 'wxPython Recipes,Mike Driscoll,Apress,2018,978-1-4842-3237-8', 'Python Interviews,Mike Driscoll,Packt Publishing,2018,9781788399081']\n",
    "for pos, i in enumerate(my_list):\n",
    "    with open(\"books.csv\", \"w\") as file:\n",
    "        file.write(f'{pos}  {i}')"
   ]
  },
  {
   "cell_type": "code",
   "execution_count": 44,
   "metadata": {},
   "outputs": [
    {
     "name": "stdout",
     "output_type": "stream",
     "text": [
      "0  book_title,author,publisher,pub_date,isbn\n",
      "1  Python 101,Mike Driscoll, Mike Driscoll,2020,123456789\n",
      "2  wxPython Recipes,Mike Driscoll,Apress,2018,978-1-4842-3237-8\n",
      "3  Python Interviews,Mike Driscoll,Packt Publishing,2018,9781788399081\n"
     ]
    }
   ],
   "source": [
    "my_list = ['book_title,author,publisher,pub_date,isbn', 'Python 101,Mike Driscoll, Mike Driscoll,2020,123456789', 'wxPython Recipes,Mike Driscoll,Apress,2018,978-1-4842-3237-8', 'Python Interviews,Mike Driscoll,Packt Publishing,2018,9781788399081']\n",
    "for pos, i in enumerate(my_list):\n",
    "    \n",
    "    print()"
   ]
  },
  {
   "cell_type": "code",
   "execution_count": 31,
   "metadata": {},
   "outputs": [
    {
     "name": "stdout",
     "output_type": "stream",
     "text": [
      "15\n"
     ]
    }
   ],
   "source": [
    "def treble(a):\n",
    "    return a * 3\n",
    "\n",
    "print(treble(5))"
   ]
  },
  {
   "cell_type": "code",
   "execution_count": 47,
   "metadata": {},
   "outputs": [
    {
     "name": "stdout",
     "output_type": "stream",
     "text": [
      "['3  Python Interviews', 'Mike Driscoll', 'Packt Publishing', '2018', '9781788399081']\n"
     ]
    }
   ],
   "source": [
    "import csv\n",
    "\n",
    "def process_csv(path):\n",
    "    with open(path) as csvfile:\n",
    "        reader = csv.reader(csvfile)\n",
    "        for row in reader:\n",
    "            print(row)\n",
    "\n",
    "if __name__ == '__main__':\n",
    "    process_csv('books.csv')"
   ]
  },
  {
   "cell_type": "code",
   "execution_count": 2,
   "metadata": {},
   "outputs": [
    {
     "data": {
      "text/plain": [
       "<sqlite3.Cursor at 0x1d656e6aa40>"
      ]
     },
     "execution_count": 2,
     "metadata": {},
     "output_type": "execute_result"
    }
   ],
   "source": [
    "import sqlite3\n",
    "conn = sqlite3.connect(\"librarys.db\")\n",
    "\n",
    "cursor = conn.cursor()\n",
    "cursor.execute(\"\"\"CREATE TABLE books\n",
    "     (title TEXT, author TEXT, release_date TEXT,\n",
    "     publisher TEXT, book_type TEXT)\n",
    "     \"\"\")\n",
    "\n",
    "\n"
   ]
  },
  {
   "cell_type": "code",
   "execution_count": null,
   "metadata": {},
   "outputs": [],
   "source": []
  },
  {
   "cell_type": "code",
   "execution_count": 3,
   "metadata": {},
   "outputs": [],
   "source": [
    "import sqlite3\n",
    "conn = sqlite3.connect(\"librarys.db\")\n",
    "\n",
    "cursor = conn.cursor()\n",
    "\n",
    "\n",
    "# insert a record into the books table in the library database\n",
    "cursor.execute(\"\"\"INSERT INTO books\n",
    " VALUES ('Python 101', 'Mike Driscoll', '9/01/2020',\n",
    " 'Mouse Vs Python', 'epub')\"\"\"\n",
    " )\n",
    "\n",
    "#save commit\n",
    "conn.commit()\n",
    "# insert multiple records using the more secure \"?\" method\n",
    "books = [('Python Interviews', 'Mike Driscoll',\n",
    "         '2/1/2018', 'Packt Publishing', 'softcover'),\n",
    "         ('Automate the Boring Stuff with Python',\n",
    "         'Al Sweigart', '', 'No Starch Press', 'PDF'),\n",
    "         ('The Well-Grounded Python Developer',\n",
    "         'Doug Farrell', '2020', 'Manning', 'Kindle')]\n",
    "cursor.executemany(\"INSERT INTO books VALUES (?,?,?,?,?)\", books)\n",
    "conn.commit()"
   ]
  },
  {
   "cell_type": "code",
   "execution_count": 55,
   "metadata": {},
   "outputs": [
    {
     "name": "stdout",
     "output_type": "stream",
     "text": [
      "[]\n",
      "\n",
      "Here is a listing of the rows in the table\n",
      "\n"
     ]
    }
   ],
   "source": [
    "import sqlite3 \n",
    "\n",
    "def get_cursor():\n",
    "    conn = sqlite3.connect(\"library.db\")\n",
    "    return conn.cursor()\n",
    "\n",
    "def select_all_records_by_author(cursor, author):\n",
    "    sql = \"SELECT * FROM books WHERE author=?\"\n",
    "    cursor.execute(sql, [author])\n",
    "    print(cursor.fetchall()) # or use fetchone()\n",
    "    print(\"\\nHere is a listing of the rows in the table\\n\")\n",
    "    for row in cursor.execute(\"SELECT rowid, * FROM books ORDER BY author\"):\n",
    "        print(row)\n",
    "        \n",
    "if __name__ == '__main__':\n",
    "    cursor = get_cursor()\n",
    "    select_all_records_by_author(cursor,\n",
    "    author='Mike Driscoll')\n",
    "    "
   ]
  },
  {
   "cell_type": "code",
   "execution_count": 61,
   "metadata": {},
   "outputs": [],
   "source": [
    "from PIL import Image\n",
    "image = Image.open('image1.jpg')\n",
    "image.show()\n"
   ]
  },
  {
   "cell_type": "code",
   "execution_count": 62,
   "metadata": {},
   "outputs": [
    {
     "name": "stdout",
     "output_type": "stream",
     "text": [
      "This image is 3088 x 2320\n",
      "{36864: b'0221', 37121: b'\\x01\\x02\\x03\\x00', 37377: 7.278499596271012, 36867: '2019:02:01 12:49:11', 36868: '2019:02:01 12:49:11', 37378: 2.2750070476914215, 37379: 7.603092366226828, 37380: 0.0, 37383: 5, 37385: 16, 37386: 2.87, 40961: 65535, 40962: 3088, 41989: 32, 41990: 0, 271: 'Apple', 40963: 2320, 37521: '123', 37522: '123', 272: 'iPhone X', 274: 6, 531: 1, 41495: 2, 33434: 0.0064516129032258064, 282: 72.0, 283: 72.0, 33437: 2.2, 41729: b'\\x01', 34850: 2, 34853: {1: 'N', 2: (9.0, 32.0, 0.99), 3: 'E', 4: (6.0, 27.0, 5.09), 5: b'\\x00', 6: 238.9213230571612, 7: (11.0, 49.0, 10.0), 12: 'K', 13: 0.3590193095980819, 16: 'T', 17: 175.82177734375, 23: 'T', 24: 355.82177734375, 29: '2019:02:01', 31: 6.000906207521522}, 41985: 3, 34855: 20, 296: 2, 41986: 0, 40960: b'0100', 41987: 0, 305: '12.1', 42034: (2.8699998854826334, 2.8699998854826334, 2.2, 2.2), 42035: 'Apple', 42036: 'iPhone X front camera 2.87mm f/2.2', 306: '2019:02:01 12:49:11', 34665: 204, 37500: b\"Apple iOS\\x00\\x00\\x01MM\\x00\\x15\\x00\\x01\\x00\\t\\x00\\x00\\x00\\x01\\x00\\x00\\x00\\n\\x00\\x02\\x00\\x07\\x00\\x00\\x02.\\x00\\x00\\x01\\x10\\x00\\x03\\x00\\x07\\x00\\x00\\x00h\\x00\\x00\\x03>\\x00\\x04\\x00\\t\\x00\\x00\\x00\\x01\\x00\\x00\\x00\\x01\\x00\\x05\\x00\\t\\x00\\x00\\x00\\x01\\x00\\x00\\x00\\xd4\\x00\\x06\\x00\\t\\x00\\x00\\x00\\x01\\x00\\x00\\x00\\xd2\\x00\\x07\\x00\\t\\x00\\x00\\x00\\x01\\x00\\x00\\x00\\x01\\x00\\x08\\x00\\n\\x00\\x00\\x00\\x03\\x00\\x00\\x03\\xa6\\x00\\n\\x00\\t\\x00\\x00\\x00\\x01\\x00\\x00\\x00\\x03\\x00\\x0e\\x00\\t\\x00\\x00\\x00\\x01\\x00\\x00\\x00\\x00\\x00\\x14\\x00\\t\\x00\\x00\\x00\\x01\\x00\\x00\\x00\\x03\\x00\\x15\\x00\\x02\\x00\\x00\\x00%\\x00\\x00\\x03\\xbe\\x00\\x16\\x00\\x02\\x00\\x00\\x00\\x1d\\x00\\x00\\x03\\xe4\\x00\\x17\\x00\\t\\x00\\x00\\x00\\x01\\x00\\x00\\x00\\x00\\x00\\x19\\x00\\t\\x00\\x00\\x00\\x01\\x00\\x00\\x00\\x02\\x00\\x1a\\x00\\x02\\x00\\x00\\x00\\x06\\x00\\x00\\x04\\x02\\x00\\x1f\\x00\\t\\x00\\x00\\x00\\x01\\x00\\x00\\x00\\x00\\x00!\\x00\\n\\x00\\x00\\x00\\x01\\x00\\x00\\x04\\x08\\x00%\\x00\\t\\x00\\x00\\x00\\x01\\x00\\x00\\x00\\x00\\x00&\\x00\\t\\x00\\x00\\x00\\x01\\x00\\x00\\x00\\x00\\x00'\\x00\\n\\x00\\x00\\x00\\x01\\x00\\x00\\x04\\x10\\x00\\x00\\x00\\x00bplist00O\\x11\\x02\\x00\\x7f\\x01\\xd3\\x00\\x07\\x01V\\x01\\xfb\\x01\\x93\\x00R\\x01J\\x01\\xbd\\x00S\\x00Q\\x00R\\x00l\\x00\\x83\\x00l\\x00e\\x008\\x02\\xb6\\x00\\x14\\x01\\xa9\\x00\\xb8\\x00\\xef\\x00\\xf9\\x01%\\x01`\\x00g\\x00a\\x00\\x8a\\x00\\x03\\x01\\xa6\\x00\\x8b\\x00y\\x00\\x91\\x01\\xc4\\x00\\xd5\\x00l\\x00\\x99\\x00\\xb9\\x00+\\x01\\xf8\\x00\\x9c\\x00B\\x00G\\x00r\\x00\\xe1\\x00\\xa9\\x00\\x97\\x00\\xd4\\x00}\\x01\\xea\\x00\\xc4\\x00^\\x00\\x84\\x00&\\x02\\xf8\\x02:\\x02E\\x01\\xea\\x00b\\x00W\\x00\\xec\\x00@\\x01\\xf3\\x01\\xcb\\x00\\xd8\\x01>\\x01\\xd2\\x00\\xad\\x00\\x84\\x01n\\x02\\xca\\x01P\\x01#\\x01\\x07\\x015\\x01\\xcd\\x00\\xec\\x00\\x15\\x01)\\x02\\xf1\\x00\\xb0\\x01[\\x01\\x11\\x01\\xa8\\x00P\\x00G\\x00O\\x00m\\x00)\\x01\\xd5\\x00\\xcf\\x001\\x01\\x04\\x01\\xa8\\x00x\\x02\\xb7\\x02\\x10\\x01_\\x01\\xe3\\x00\\xfd\\x00i\\x00D\\x00P\\x00\\x92\\x00\\x8e\\x01\\xe9\\x006\\x01Z\\x01\\xcc\\x00\\x8c\\x00\\x07\\x03\\xd9\\x02d\\x01\\x86\\x01\\xac\\x01q\\x01\\x8d\\x00B\\x00K\\x00\\xad\\x00\\xbe\\x01\\x0f\\x01\\x9a\\x00\\xc3\\x00\\x87\\x00!\\x01\\xfb\\x01\\xb0\\x00\\xda\\x01\\xd2\\x01\\x96\\x01\\xbb\\x01i\\x02C\\x00C\\x00\\xa4\\x00\\xf7\\x00\\xdf\\x00\\x81\\x00\\xbb\\x00\\xa5\\x00k\\x02[\\x00\\xdf\\x00\\xfe\\x02\\xcf\\x02?\\x02\\x8d\\x01u\\x03c\\x00<\\x00Y\\x00\\xa8\\x00\\xa8\\x00v\\x00\\x8c\\x00r\\x00\\x99\\x00V\\x00\\x99\\x00\\x9a\\x02\\xca\\x03)\\x02\\x81\\x00\\xca\\x00g\\x009\\x00:\\x00R\\x00W\\x00\\xa2\\x00\\x96\\x01\\x82\\x00\\x82\\x00~\\x00\\x97\\x00T\\x02I\\x02\\xb0\\x00\\xac\\x01x\\x01\\xdc\\x00:\\x003\\x002\\x00\\xa5\\x00\\xf5\\x00\\xf6\\x01b\\x01~\\x00\\x89\\x00\\xa0\\x00\\xdf\\x01\\xe6\\x00k\\x001\\x024\\x01\\xe2\\x00B\\x004\\x00P\\x00G\\x00I\\x00r\\x00i\\x01\\xc1\\x00\\xa7\\x00\\x97\\x00\\x97\\x01,\\x02\\xdb\\x00\\xc0\\x00\\xc8\\x00}\\x00`\\x00\\xae\\x00\\x0c\\x01\\x92\\x00r\\x00{\\x00D\\x00\\xc3\\x00\\r\\x01\\xfb\\x00\\xea\\x01\\xfe\\x01I\\x01n\\x01d\\x00I\\x00\\x85\\x00\\xf4\\x01<\\x01\\x07\\x01\\xaa\\x00\\xaa\\x00d\\x00\\x8a\\x01\\xf1\\x00\\xb5\\x00P\\x01~\\x01\\x10\\x01\\x8e\\x01\\x01\\x01A\\x00{\\x00Q\\x01\\x1a\\x01y\\x00w\\x00T\\x00\\xc8\\x00\\xf2\\x00\\xc6\\x00k\\x00\\x00\\x08\\x00\\x00\\x00\\x00\\x00\\x00\\x02\\x01\\x00\\x00\\x00\\x00\\x00\\x00\\x00\\x01\\x00\\x00\\x00\\x00\\x00\\x00\\x00\\x00\\x00\\x00\\x00\\x00\\x00\\x00\\x02\\x0cbplist00\\xd4\\x01\\x02\\x03\\x04\\x05\\x06\\x07\\x08UflagsUvalueYtimescaleUepoch\\x10\\x01\\x13\\x00\\x00u9\\r\\xe0\\xa5\\x0f\\x12;\\x9a\\xca\\x00\\x10\\x00\\x08\\x11\\x17\\x1d'-/8=\\x00\\x00\\x00\\x00\\x00\\x00\\x01\\x01\\x00\\x00\\x00\\x00\\x00\\x00\\x00\\t\\x00\\x00\\x00\\x00\\x00\\x00\\x00\\x00\\x00\\x00\\x00\\x00\\x00\\x00\\x00?\\xff\\xff\\xee\\x8d\\x00\\x01\\xa3k\\xff\\xff\\x7f\\x95\\x00\\x00\\x90#\\x00\\x00a\\xdb\\x00\\x00\\xc3t03AE444E-8C8D-4606-AB8F-253082B93C39\\x00\\x00AbY/zClytvM+WV8ODaVaqeTRKPI+\\x00\\x00q900n\\x00\\x00\\x00\\x00\\x01\\x00\\x00\\x00\\x01\\x00\\x00\\x00\\x00\\x00\\x00\\x00\\x01\"}\n"
     ]
    }
   ],
   "source": [
    "from PIL import Image\n",
    "def get_image_info(path):\n",
    "    image = Image.open(path)\n",
    "    print(f'This image is {image.width} x {image.height}')\n",
    "    exif = image._getexif()\n",
    "    print(exif)\n",
    "\n",
    "if __name__ == '__main__':\n",
    "    get_image_info('image1.jpg')"
   ]
  },
  {
   "cell_type": "code",
   "execution_count": 6,
   "metadata": {},
   "outputs": [],
   "source": [
    "from PIL import Image\n",
    "from PIL import ImageFilter\n",
    "\n",
    "def blur(path, modified_photo):\n",
    "    image = Image.open(path)\n",
    "    blurred_image = image.filter(ImageFilter.SHARPEN)\n",
    "    blurred_image.save(modified_photo)\n",
    "\n",
    "if __name__ == '__main__':\n",
    "    blur('image1.jpg', 'image_sharp.jpg')"
   ]
  },
  {
   "cell_type": "code",
   "execution_count": 7,
   "metadata": {},
   "outputs": [],
   "source": [
    "from PIL import Image\n",
    "image = Image.open('image_sharp.jpg')\n",
    "image.show()"
   ]
  },
  {
   "cell_type": "code",
   "execution_count": 10,
   "metadata": {},
   "outputs": [
    {
     "data": {
      "text/plain": [
       "101"
      ]
     },
     "execution_count": 10,
     "metadata": {},
     "output_type": "execute_result"
    }
   ],
   "source": [
    "class car:\n",
    "    def __init__(self, color, model, price):\n",
    "        self.color = color\n",
    "        self.model = model\n",
    "        self.price = price\n",
    "        \n",
    "\n",
    "my_list = car(\"black\", \"toyota\", 101)\n",
    "my_list.price"
   ]
  }
 ],
 "metadata": {
  "kernelspec": {
   "display_name": "Python 3",
   "language": "python",
   "name": "python3"
  },
  "language_info": {
   "codemirror_mode": {
    "name": "ipython",
    "version": 3
   },
   "file_extension": ".py",
   "mimetype": "text/x-python",
   "name": "python",
   "nbconvert_exporter": "python",
   "pygments_lexer": "ipython3",
   "version": "3.8.3"
  }
 },
 "nbformat": 4,
 "nbformat_minor": 4
}
